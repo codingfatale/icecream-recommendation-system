{
  "nbformat": 4,
  "nbformat_minor": 0,
  "metadata": {
    "colab": {
      "name": "icecream_simple_RNN.ipynb",
      "provenance": [],
      "include_colab_link": true
    },
    "kernelspec": {
      "name": "python3",
      "display_name": "Python 3"
    },
    "language_info": {
      "name": "python"
    }
  },
  "cells": [
    {
      "cell_type": "markdown",
      "metadata": {
        "id": "view-in-github",
        "colab_type": "text"
      },
      "source": [
        "<a href=\"https://colab.research.google.com/github/kiwihero/icecream-recommendation-system/blob/simpleRNN/icecream_simple_RNN.ipynb\" target=\"_parent\"><img src=\"https://colab.research.google.com/assets/colab-badge.svg\" alt=\"Open In Colab\"/></a>"
      ]
    },
    {
      "cell_type": "markdown",
      "metadata": {
        "id": "rG88X1BJoeG-"
      },
      "source": [
        "### Icecream Recomendation system using RNN\n",
        "\n",
        "    1.Import necessary Libraries\n",
        "    2.Exploratory Data Analysis(Duplicates, Missing Data)\n",
        "    3.Data Clensing & Feature Engineering\n",
        "    4.Data preprocessing\n",
        "    5.Model Building\n",
        "    6.Model Evaluation"
      ]
    },
    {
      "cell_type": "markdown",
      "metadata": {
        "id": "ktmGd1XjotHr"
      },
      "source": [
        "1. Import libraries"
      ]
    },
    {
      "cell_type": "code",
      "metadata": {
        "id": "SKmN54tt_vZy"
      },
      "source": [
        "#imports\n",
        "import numpy as np #Mathematical Operations\n",
        "import pandas as pd #Data analysis\n",
        "import matplotlib.pyplot as plt \n",
        "import seaborn as sns #Visulisation\n",
        "from __future__ import print_function\n",
        "from sklearn.preprocessing import LabelEncoder\n",
        "from sklearn.model_selection import train_test_split\n",
        "from keras.preprocessing import sequence #To preprocess sequence data\n",
        "from keras.models import Sequential #Sequential Model\n",
        "from keras.layers import Dense, Embedding #Fully connected layer\n",
        "from keras.layers import SimpleRNN #Model\n",
        "from keras import initializers #To initialize random weights of layers\n",
        "from keras.preprocessing.text import Tokenizer"
      ],
      "execution_count": 181,
      "outputs": []
    },
    {
      "cell_type": "code",
      "metadata": {
        "id": "DTSPdbrAPqkD"
      },
      "source": [
        "# Import PyDrive and associated libraries.\n",
        "# This only needs to be done once per notebook.\n",
        "from pydrive.auth import GoogleAuth\n",
        "from pydrive.drive import GoogleDrive\n",
        "from google.colab import auth\n",
        "from oauth2client.client import GoogleCredentials\n",
        "\n",
        "# Authenticate and create the PyDrive client.\n",
        "# This only needs to be done once per notebook.\n",
        "auth.authenticate_user()\n",
        "gauth = GoogleAuth()\n",
        "gauth.credentials = GoogleCredentials.get_application_default()\n",
        "drive = GoogleDrive(gauth)\n",
        "\n",
        "# Download a file based on its file ID.\n",
        "#\n",
        "# A file ID looks like: laggVyWshwcyP6kEI-y_W3P8D26sz\n",
        "file_id = 'REPLACE_WITH_YOUR_FILE_ID'\n",
        "downloaded = drive.CreateFile({'id': file_id})\n",
        "print('Downloaded content \"{}\"'.format(downloaded.GetContentString()))"
      ],
      "execution_count": 167,
      "outputs": []
    },
    {
      "cell_type": "code",
      "metadata": {
        "colab": {
          "base_uri": "https://localhost:8080/"
        },
        "id": "CL-IuPSXA9FI",
        "outputId": "7f426161-28d3-4119-dc91-4a76f0cad407"
      },
      "source": [
        "from google.colab import drive\n",
        "drive.mount('/content/drive')"
      ],
      "execution_count": 145,
      "outputs": [
        {
          "output_type": "stream",
          "text": [
            "Drive already mounted at /content/drive; to attempt to forcibly remount, call drive.mount(\"/content/drive\", force_remount=True).\n"
          ],
          "name": "stdout"
        }
      ]
    },
    {
      "cell_type": "code",
      "metadata": {
        "id": "UIjKkhQgC_pp"
      },
      "source": [
        "# processing data set and filtering out columns that have no information\n",
        "products = pd.read_csv(\"/content/drive/My Drive/combined/products.csv\")\n",
        "products = products.drop([\"subhead\"],1)\n",
        "\n",
        "reviews = pd.read_csv(\"/content/drive/My Drive/combined/reviews.csv\")\n",
        "reviews=reviews.drop([\"ingredients\",\"texture\", \"likes\",\"taste\"],axis=1)\n",
        "\n"
      ],
      "execution_count": 146,
      "outputs": []
    },
    {
      "cell_type": "markdown",
      "metadata": {
        "id": "us_Qvem_pKVo"
      },
      "source": [
        "2. Exploratory Data Analysis(Duplicates, Missing Data)\n",
        "\n",
        "3. Data Cleansing"
      ]
    },
    {
      "cell_type": "code",
      "metadata": {
        "colab": {
          "base_uri": "https://localhost:8080/"
        },
        "id": "qcqPpYwfYk4e",
        "outputId": "bf8c179a-beb7-4cf5-f573-f84d6bbfcd30"
      },
      "source": [
        "# Datasets size\n",
        "print(products.shape)\n",
        "print(reviews.shape)"
      ],
      "execution_count": 168,
      "outputs": [
        {
          "output_type": "stream",
          "text": [
            "(241, 7)\n",
            "(21674, 9)\n"
          ],
          "name": "stdout"
        }
      ]
    },
    {
      "cell_type": "code",
      "metadata": {
        "colab": {
          "base_uri": "https://localhost:8080/"
        },
        "id": "uTe3W862SHh_",
        "outputId": "9337fe33-0a64-4a82-dc9d-832eedd15a48"
      },
      "source": [
        "# Look for unique count of each feature\n",
        "products.nunique()"
      ],
      "execution_count": 170,
      "outputs": [
        {
          "output_type": "execute_result",
          "data": {
            "text/plain": [
              "brand             4\n",
              "key             241\n",
              "name            240\n",
              "description     237\n",
              "rating           29\n",
              "rating_count    136\n",
              "ingredients     240\n",
              "dtype: int64"
            ]
          },
          "metadata": {
            "tags": []
          },
          "execution_count": 170
        }
      ]
    },
    {
      "cell_type": "markdown",
      "metadata": {
        "id": "jzdwNKZSpZWH"
      },
      "source": [
        "Take-away: \n",
        "1. By looking at unique count name and ingredients having one duplicate each let's see why it has a duplicate\n",
        "2. Description feature having 4 duplicate records"
      ]
    },
    {
      "cell_type": "code",
      "metadata": {
        "colab": {
          "base_uri": "https://localhost:8080/",
          "height": 77
        },
        "id": "U84_MwcJpdSt",
        "outputId": "2ed1f846-055a-41c6-d851-26cfc80d5a30"
      },
      "source": [
        "# Find the duplicate in name columns\n",
        "products[products['name'].duplicated()]"
      ],
      "execution_count": 172,
      "outputs": [
        {
          "output_type": "execute_result",
          "data": {
            "text/html": [
              "<div>\n",
              "<style scoped>\n",
              "    .dataframe tbody tr th:only-of-type {\n",
              "        vertical-align: middle;\n",
              "    }\n",
              "\n",
              "    .dataframe tbody tr th {\n",
              "        vertical-align: top;\n",
              "    }\n",
              "\n",
              "    .dataframe thead th {\n",
              "        text-align: right;\n",
              "    }\n",
              "</style>\n",
              "<table border=\"1\" class=\"dataframe\">\n",
              "  <thead>\n",
              "    <tr style=\"text-align: right;\">\n",
              "      <th></th>\n",
              "      <th>brand</th>\n",
              "      <th>key</th>\n",
              "      <th>name</th>\n",
              "      <th>description</th>\n",
              "      <th>rating</th>\n",
              "      <th>rating_count</th>\n",
              "      <th>ingredients</th>\n",
              "    </tr>\n",
              "  </thead>\n",
              "  <tbody>\n",
              "    <tr>\n",
              "      <th>221</th>\n",
              "      <td>breyers</td>\n",
              "      <td>49_breyers</td>\n",
              "      <td>Chocolate Chip Cookie Dough</td>\n",
              "      <td>With creamy vanilla and chunks of cookie dough...</td>\n",
              "      <td>1.2</td>\n",
              "      <td>89</td>\n",
              "      <td>MILK, SUGAR, CORN SYRUP, CREAM, ENRICHED WHEAT...</td>\n",
              "    </tr>\n",
              "  </tbody>\n",
              "</table>\n",
              "</div>"
            ],
            "text/plain": [
              "       brand  ...                                        ingredients\n",
              "221  breyers  ...  MILK, SUGAR, CORN SYRUP, CREAM, ENRICHED WHEAT...\n",
              "\n",
              "[1 rows x 7 columns]"
            ]
          },
          "metadata": {
            "tags": []
          },
          "execution_count": 172
        }
      ]
    },
    {
      "cell_type": "code",
      "metadata": {
        "colab": {
          "base_uri": "https://localhost:8080/",
          "height": 106
        },
        "id": "AO7IdJDhplph",
        "outputId": "19b88de3-a19d-4ce4-dfa4-7e1c086b3568"
      },
      "source": [
        "#Find the other record with same name\n",
        "products[products['name'] == 'Chocolate Chip Cookie Dough']"
      ],
      "execution_count": 174,
      "outputs": [
        {
          "output_type": "execute_result",
          "data": {
            "text/html": [
              "<div>\n",
              "<style scoped>\n",
              "    .dataframe tbody tr th:only-of-type {\n",
              "        vertical-align: middle;\n",
              "    }\n",
              "\n",
              "    .dataframe tbody tr th {\n",
              "        vertical-align: top;\n",
              "    }\n",
              "\n",
              "    .dataframe thead th {\n",
              "        text-align: right;\n",
              "    }\n",
              "</style>\n",
              "<table border=\"1\" class=\"dataframe\">\n",
              "  <thead>\n",
              "    <tr style=\"text-align: right;\">\n",
              "      <th></th>\n",
              "      <th>brand</th>\n",
              "      <th>key</th>\n",
              "      <th>name</th>\n",
              "      <th>description</th>\n",
              "      <th>rating</th>\n",
              "      <th>rating_count</th>\n",
              "      <th>ingredients</th>\n",
              "    </tr>\n",
              "  </thead>\n",
              "  <tbody>\n",
              "    <tr>\n",
              "      <th>16</th>\n",
              "      <td>bj</td>\n",
              "      <td>16_bj</td>\n",
              "      <td>Chocolate Chip Cookie Dough</td>\n",
              "      <td>We knew we were onto something big when we mad...</td>\n",
              "      <td>4.6</td>\n",
              "      <td>983</td>\n",
              "      <td>CREAM, SKIM MILK, LIQUID SUGAR (SUGAR, WATER),...</td>\n",
              "    </tr>\n",
              "    <tr>\n",
              "      <th>221</th>\n",
              "      <td>breyers</td>\n",
              "      <td>49_breyers</td>\n",
              "      <td>Chocolate Chip Cookie Dough</td>\n",
              "      <td>With creamy vanilla and chunks of cookie dough...</td>\n",
              "      <td>1.2</td>\n",
              "      <td>89</td>\n",
              "      <td>MILK, SUGAR, CORN SYRUP, CREAM, ENRICHED WHEAT...</td>\n",
              "    </tr>\n",
              "  </tbody>\n",
              "</table>\n",
              "</div>"
            ],
            "text/plain": [
              "       brand  ...                                        ingredients\n",
              "16        bj  ...  CREAM, SKIM MILK, LIQUID SUGAR (SUGAR, WATER),...\n",
              "221  breyers  ...  MILK, SUGAR, CORN SYRUP, CREAM, ENRICHED WHEAT...\n",
              "\n",
              "[2 rows x 7 columns]"
            ]
          },
          "metadata": {
            "tags": []
          },
          "execution_count": 174
        }
      ]
    },
    {
      "cell_type": "markdown",
      "metadata": {
        "id": "XmE_Y_kDp8NN"
      },
      "source": [
        "Take-away: Same name but different brand, so make sense to keep both"
      ]
    },
    {
      "cell_type": "code",
      "metadata": {
        "colab": {
          "base_uri": "https://localhost:8080/"
        },
        "id": "4o-DCMNpqCU0",
        "outputId": "26ee8eb8-0c53-4cac-a8d6-be67823d7726"
      },
      "source": [
        "# Check of count of each column\n",
        "products.count()"
      ],
      "execution_count": 175,
      "outputs": [
        {
          "output_type": "execute_result",
          "data": {
            "text/plain": [
              "brand           241\n",
              "key             241\n",
              "name            241\n",
              "description     237\n",
              "rating          241\n",
              "rating_count    241\n",
              "ingredients     241\n",
              "dtype: int64"
            ]
          },
          "metadata": {
            "tags": []
          },
          "execution_count": 175
        }
      ]
    },
    {
      "cell_type": "code",
      "metadata": {
        "colab": {
          "base_uri": "https://localhost:8080/"
        },
        "id": "kxUc4e1iqIKb",
        "outputId": "75046396-6ea0-422d-9288-5482ba2ba53a"
      },
      "source": [
        "# Look for count of nulls in products dataframe\n",
        "products.isna().sum()"
      ],
      "execution_count": 176,
      "outputs": [
        {
          "output_type": "execute_result",
          "data": {
            "text/plain": [
              "brand           0\n",
              "key             0\n",
              "name            0\n",
              "description     4\n",
              "rating          0\n",
              "rating_count    0\n",
              "ingredients     0\n",
              "dtype: int64"
            ]
          },
          "metadata": {
            "tags": []
          },
          "execution_count": 176
        }
      ]
    },
    {
      "cell_type": "code",
      "metadata": {
        "colab": {
          "base_uri": "https://localhost:8080/",
          "height": 166
        },
        "id": "R4ENPfBdqRJX",
        "outputId": "207b578e-8d82-464c-8dc7-fb95134411d7"
      },
      "source": [
        "# Explore the data where description is null\n",
        "products[products['description'].isnull()]"
      ],
      "execution_count": 177,
      "outputs": [
        {
          "output_type": "execute_result",
          "data": {
            "text/html": [
              "<div>\n",
              "<style scoped>\n",
              "    .dataframe tbody tr th:only-of-type {\n",
              "        vertical-align: middle;\n",
              "    }\n",
              "\n",
              "    .dataframe tbody tr th {\n",
              "        vertical-align: top;\n",
              "    }\n",
              "\n",
              "    .dataframe thead th {\n",
              "        text-align: right;\n",
              "    }\n",
              "</style>\n",
              "<table border=\"1\" class=\"dataframe\">\n",
              "  <thead>\n",
              "    <tr style=\"text-align: right;\">\n",
              "      <th></th>\n",
              "      <th>brand</th>\n",
              "      <th>key</th>\n",
              "      <th>name</th>\n",
              "      <th>description</th>\n",
              "      <th>rating</th>\n",
              "      <th>rating_count</th>\n",
              "      <th>ingredients</th>\n",
              "    </tr>\n",
              "  </thead>\n",
              "  <tbody>\n",
              "    <tr>\n",
              "      <th>139</th>\n",
              "      <td>talenti</td>\n",
              "      <td>12_talenti</td>\n",
              "      <td>COCONUT CHOCOLATE COOKIE</td>\n",
              "      <td>NaN</td>\n",
              "      <td>4.3</td>\n",
              "      <td>29</td>\n",
              "      <td>WATER, SUGAR, DESICCATED COCONUT, COCONUT OIL,...</td>\n",
              "    </tr>\n",
              "    <tr>\n",
              "      <th>158</th>\n",
              "      <td>talenti</td>\n",
              "      <td>31_talenti</td>\n",
              "      <td>PACIFIC COAST PISTACHIO GELATO</td>\n",
              "      <td>NaN</td>\n",
              "      <td>4.5</td>\n",
              "      <td>201</td>\n",
              "      <td>MILK, SUGAR, CREAM, PISTACHIOS, DEXTROSE, CARO...</td>\n",
              "    </tr>\n",
              "    <tr>\n",
              "      <th>165</th>\n",
              "      <td>talenti</td>\n",
              "      <td>38_talenti</td>\n",
              "      <td>SALTED CARAMEL TRUFFLE</td>\n",
              "      <td>NaN</td>\n",
              "      <td>4.7</td>\n",
              "      <td>160</td>\n",
              "      <td>MILK, SUGAR, SKIM MILK, CREAM, WATER, COCONUT ...</td>\n",
              "    </tr>\n",
              "    <tr>\n",
              "      <th>166</th>\n",
              "      <td>talenti</td>\n",
              "      <td>39_talenti</td>\n",
              "      <td>SEA SALT CARAMEL GELATO</td>\n",
              "      <td>NaN</td>\n",
              "      <td>4.1</td>\n",
              "      <td>146</td>\n",
              "      <td>MILK, SKIM MILK, SUGAR, CREAM, EGG YOLK AND WH...</td>\n",
              "    </tr>\n",
              "  </tbody>\n",
              "</table>\n",
              "</div>"
            ],
            "text/plain": [
              "       brand  ...                                        ingredients\n",
              "139  talenti  ...  WATER, SUGAR, DESICCATED COCONUT, COCONUT OIL,...\n",
              "158  talenti  ...  MILK, SUGAR, CREAM, PISTACHIOS, DEXTROSE, CARO...\n",
              "165  talenti  ...  MILK, SUGAR, SKIM MILK, CREAM, WATER, COCONUT ...\n",
              "166  talenti  ...  MILK, SKIM MILK, SUGAR, CREAM, EGG YOLK AND WH...\n",
              "\n",
              "[4 rows x 7 columns]"
            ]
          },
          "metadata": {
            "tags": []
          },
          "execution_count": 177
        }
      ]
    },
    {
      "cell_type": "markdown",
      "metadata": {
        "id": "U0PA1gDsqiqJ"
      },
      "source": [
        "Take-away: As Description feature having nulls not even 2% of the dataset  so \n",
        "dropping those records won't impact."
      ]
    },
    {
      "cell_type": "code",
      "metadata": {
        "id": "oOUdAFEGqmJ2"
      },
      "source": [
        "# Drop records where null values in any column\n",
        "products.dropna(inplace=True)"
      ],
      "execution_count": 178,
      "outputs": []
    },
    {
      "cell_type": "code",
      "metadata": {
        "colab": {
          "base_uri": "https://localhost:8080/"
        },
        "id": "03oCNKcEquT4",
        "outputId": "4e11153d-f27a-421c-de78-12069d21823e"
      },
      "source": [
        "#Check count of each column\n",
        "products.count()"
      ],
      "execution_count": 179,
      "outputs": [
        {
          "output_type": "execute_result",
          "data": {
            "text/plain": [
              "brand           237\n",
              "key             237\n",
              "name            237\n",
              "description     237\n",
              "rating          237\n",
              "rating_count    237\n",
              "ingredients     237\n",
              "dtype: int64"
            ]
          },
          "metadata": {
            "tags": []
          },
          "execution_count": 179
        }
      ]
    },
    {
      "cell_type": "markdown",
      "metadata": {
        "id": "tEVW07LFrAW6"
      },
      "source": [
        "4.Data preprocessing"
      ]
    },
    {
      "cell_type": "code",
      "metadata": {
        "id": "wcF4QKg8R-qq"
      },
      "source": [
        "# Slicing the dependent & independent features\n",
        "x = products['ingredients']\n",
        "y = products['key']"
      ],
      "execution_count": 149,
      "outputs": []
    },
    {
      "cell_type": "code",
      "metadata": {
        "colab": {
          "base_uri": "https://localhost:8080/"
        },
        "id": "8FilTu1DYp0D",
        "outputId": "6c58d65b-ef8c-47a1-e80d-b94df08c6df4"
      },
      "source": [
        "# Check for max length of words in x, y\n",
        "print(x.apply(lambda x:len(str(x).split())).max())\n",
        "print(y.apply(lambda x:len(str(x).split())).max())"
      ],
      "execution_count": 150,
      "outputs": [
        {
          "output_type": "execute_result",
          "data": {
            "text/plain": [
              "1"
            ]
          },
          "metadata": {
            "tags": []
          },
          "execution_count": 150
        }
      ]
    },
    {
      "cell_type": "code",
      "metadata": {
        "id": "SEh_QyA6X8AL"
      },
      "source": [
        "# Tokenise the ingridents columns\n",
        "token =Tokenizer(num_words=150)\n",
        "token.fit_on_texts(x)\n",
        "sequences = token.texts_to_sequences(x)"
      ],
      "execution_count": 151,
      "outputs": []
    },
    {
      "cell_type": "code",
      "metadata": {
        "id": "mIp1nZQfdvIe"
      },
      "source": [
        "# Lable encoding for ice cream keys\n",
        "encoded = LabelEncoder()\n",
        "y_encoded = encoded.fit_transform(y)"
      ],
      "execution_count": 152,
      "outputs": []
    },
    {
      "cell_type": "code",
      "metadata": {
        "colab": {
          "base_uri": "https://localhost:8080/"
        },
        "id": "mT8LFaqieP-a",
        "outputId": "59d20167-611a-4235-fa21-1f81374ce641"
      },
      "source": [
        "# Casting the independent feature to ndarray\n",
        "x_array = np.array(sequences)"
      ],
      "execution_count": 155,
      "outputs": [
        {
          "output_type": "stream",
          "text": [
            "/usr/local/lib/python3.7/dist-packages/ipykernel_launcher.py:1: VisibleDeprecationWarning: Creating an ndarray from ragged nested sequences (which is a list-or-tuple of lists-or-tuples-or ndarrays with different lengths or shapes) is deprecated. If you meant to do this, you must specify 'dtype=object' when creating the ndarray\n",
            "  \"\"\"Entry point for launching an IPython kernel.\n"
          ],
          "name": "stderr"
        }
      ]
    },
    {
      "cell_type": "markdown",
      "metadata": {
        "id": "2RL09anxX7Z2"
      },
      "source": [
        "Preparing the data for training using train_test_split.\n",
        "https://www.bitdegree.org/learn/train-test-split"
      ]
    },
    {
      "cell_type": "code",
      "metadata": {
        "id": "XhVHMNGFC_M5",
        "colab": {
          "base_uri": "https://localhost:8080/"
        },
        "outputId": "4aaf9354-1b4d-4891-b7e3-6eb51e44cff0"
      },
      "source": [
        "## split the data \n",
        "x_train, x_test, y_train, y_test = train_test_split(x_array,y_encoded, test_size=0.2, random_state=42)\n",
        "#train, test = train_test_split(products, test_size=0.2, random_state=42)\n",
        "\n",
        "print(\"Train data shape:\", train.shape)\n",
        "print(\"Test shape:\", test.shape)"
      ],
      "execution_count": 159,
      "outputs": [
        {
          "output_type": "stream",
          "text": [
            "Train data shape: (192, 7)\n",
            "Test shape: (49, 7)\n"
          ],
          "name": "stdout"
        }
      ]
    },
    {
      "cell_type": "code",
      "metadata": {
        "id": "qwzcdkWJc_BI"
      },
      "source": [
        "# variable for unique product key for ice cream brand and flavor\n",
        "n_product = len(products.key.unique())"
      ],
      "execution_count": 160,
      "outputs": []
    },
    {
      "cell_type": "code",
      "metadata": {
        "id": "kr5BWe6qC_Vk"
      },
      "source": [
        "max_features = 30000\n",
        "maxlen = 150\n",
        "batch_size = 32"
      ],
      "execution_count": 161,
      "outputs": []
    },
    {
      "cell_type": "code",
      "metadata": {
        "id": "aBFPpgbcPhqc"
      },
      "source": [
        "# building RNN model\n",
        "rnn_hidden_dim = 10\n",
        "word_embedding_dim = 50\n",
        "model_rnn = Sequential()\n",
        "model_rnn.add(Embedding(max_features, word_embedding_dim))\n",
        "model_rnn.add(SimpleRNN(rnn_hidden_dim,\n",
        "                    kernel_initializer=initializers.RandomNormal(stddev=0.001),\n",
        "                    recurrent_initializer=initializers.Identity(gain=1.0),\n",
        "                    activation='relu',\n",
        "                    input_shape=train.shape[1:]))\n",
        "\n",
        "model_rnn.add(Dense(1, activation='sigmoid'))"
      ],
      "execution_count": 162,
      "outputs": []
    },
    {
      "cell_type": "code",
      "metadata": {
        "id": "GvMigw76Phhm",
        "colab": {
          "base_uri": "https://localhost:8080/"
        },
        "outputId": "dcbf013f-da69-4d46-c2ca-1986b148dc1a"
      },
      "source": [
        "model_rnn.summary()"
      ],
      "execution_count": 163,
      "outputs": [
        {
          "output_type": "stream",
          "text": [
            "Model: \"sequential_6\"\n",
            "_________________________________________________________________\n",
            "Layer (type)                 Output Shape              Param #   \n",
            "=================================================================\n",
            "embedding_6 (Embedding)      (None, None, 50)          1500000   \n",
            "_________________________________________________________________\n",
            "simple_rnn_6 (SimpleRNN)     (None, 10)                610       \n",
            "_________________________________________________________________\n",
            "dense_6 (Dense)              (None, 1)                 11        \n",
            "=================================================================\n",
            "Total params: 1,500,621\n",
            "Trainable params: 1,500,621\n",
            "Non-trainable params: 0\n",
            "_________________________________________________________________\n"
          ],
          "name": "stdout"
        }
      ]
    },
    {
      "cell_type": "code",
      "metadata": {
        "id": "ixFxeQQjPhXk"
      },
      "source": [
        "rmsprop = keras.optimizers.RMSprop(lr = .0001)\n",
        "\n",
        "model_rnn.compile(loss='SparseCategoricalCrossentropy',\n",
        "              optimizer=rmsprop,\n",
        "              metrics=['accuracy'])"
      ],
      "execution_count": 164,
      "outputs": []
    },
    {
      "cell_type": "code",
      "metadata": {
        "id": "wcgfB3qjWFug"
      },
      "source": [
        "model = model_rnn.fit(x_train, y_train,\n",
        "          batch_size=batch_size,\n",
        "          epochs=10,\n",
        "          validation_data=(x_test, y_test))"
      ],
      "execution_count": 181,
      "outputs": []
    },
    {
      "cell_type": "code",
      "metadata": {
        "id": "MPwYfRRvTbsZ"
      },
      "source": [
        "score, acc = model_rnn.evaluate(x_test, y_test,\n",
        "                            batch_size=batch_size)\n",
        "print('Test score:', score)\n",
        "print('Test accuracy:', acc)"
      ],
      "execution_count": null,
      "outputs": []
    },
    {
      "cell_type": "code",
      "metadata": {
        "id": "wufKaxFLs0kO"
      },
      "source": [
        "# Write a function to plot the train & test losses\n",
        "def plot_loss_accuracy(model):\n",
        "    fig = plt.figure(figsize=(12, 6))\n",
        "    ax = fig.add_subplot(1, 2, 1)\n",
        "    ax.plot(history.history[\"loss\"],'r-x', label=\"Train Loss\")\n",
        "    ax.plot(history.history[\"val_loss\"],'b-x', label=\"Validation Loss\")\n",
        "    ax.legend()\n",
        "    ax.set_title('cross_entropy loss')\n",
        "    ax.grid(True)\n",
        "\n",
        "\n",
        "    ax = fig.add_subplot(1, 2, 2)\n",
        "    ax.plot(history.history[\"accuracy\"],'r-x', label=\"Train Accuracy\")\n",
        "    ax.plot(history.history[\"val_accuracy\"],'b-x', label=\"Validation Accuracy\")\n",
        "    ax.legend()\n",
        "    ax.set_title('accuracy')\n",
        "    ax.grid(True)  \n",
        "\n",
        "# Calling the function\n",
        "plot_loss_accuracy(model)"
      ],
      "execution_count": null,
      "outputs": []
    }
  ]
}