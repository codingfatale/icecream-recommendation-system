{
  "nbformat": 4,
  "nbformat_minor": 0,
  "metadata": {
    "colab": {
      "name": "icecream_simple_RNN.ipynb",
      "provenance": [],
      "include_colab_link": true
    },
    "kernelspec": {
      "name": "python3",
      "display_name": "Python 3"
    },
    "language_info": {
      "name": "python"
    }
  },
  "cells": [
    {
      "cell_type": "markdown",
      "metadata": {
        "id": "view-in-github",
        "colab_type": "text"
      },
      "source": [
        "<a href=\"https://colab.research.google.com/github/kiwihero/icecream-recommendation-system/blob/simpleRNN/icecream_simple_RNN.ipynb\" target=\"_parent\"><img src=\"https://colab.research.google.com/assets/colab-badge.svg\" alt=\"Open In Colab\"/></a>"
      ]
    },
    {
      "cell_type": "markdown",
      "metadata": {
        "id": "rG88X1BJoeG-"
      },
      "source": [
        "### Icecream Recomendation system using RNN\n",
        "\n",
        "    1.Import necessary Libraries\n",
        "    2.Exploratory Data Analysis(Duplicates, Missing Data)\n",
        "    3.Data Clensing & Feature Engineering\n",
        "    4.Data preprocessing\n",
        "    5.Model Building\n",
        "    6.Model Evaluation"
      ]
    },
    {
      "cell_type": "markdown",
      "metadata": {
        "id": "ktmGd1XjotHr"
      },
      "source": [
        "1. Import libraries"
      ]
    },
    {
      "cell_type": "code",
      "metadata": {
        "id": "SKmN54tt_vZy"
      },
      "source": [
        "#imports\n",
        "import numpy as np #Mathematical Operations\n",
        "import pandas as pd #Data analysis\n",
        "import matplotlib.pyplot as plt \n",
        "import seaborn as sns #Visulisation\n",
        "from __future__ import print_function\n",
        "from sklearn.preprocessing import LabelEncoder, MultiLabelBinarizer, normalize\n",
        "from sklearn.model_selection import train_test_split\n",
        "import keras\n",
        "from keras.preprocessing import sequence #To preprocess sequence data\n",
        "from keras.models import Sequential #Sequential Model\n",
        "from keras.layers import Dense, Embedding #Fully connected layer\n",
        "from keras.layers import SimpleRNN #Model\n",
        "from keras import initializers #To initialize random weights of layers\n",
        "from keras.preprocessing.text import Tokenizer"
      ],
      "execution_count": null,
      "outputs": []
    },
    {
      "cell_type": "code",
      "metadata": {
        "colab": {
          "base_uri": "https://localhost:8080/"
        },
        "id": "CL-IuPSXA9FI",
        "outputId": "0be99bb3-4d1e-4bd7-c2c6-6b1717e88179"
      },
      "source": [
        "from google.colab import drive\n",
        "drive.mount('/content/drive')"
      ],
      "execution_count": null,
      "outputs": [
        {
          "output_type": "stream",
          "text": [
            "Drive already mounted at /content/drive; to attempt to forcibly remount, call drive.mount(\"/content/drive\", force_remount=True).\n"
          ],
          "name": "stdout"
        }
      ]
    },
    {
      "cell_type": "code",
      "metadata": {
        "id": "UIjKkhQgC_pp"
      },
      "source": [
        "# processing data set and filtering out columns that have no information\n",
        "products = pd.read_csv(\"/content/drive/MyDrive/combined/products.csv\")\n",
        "products = products.drop([\"subhead\"],1)\n",
        "\n",
        "reviews = pd.read_csv(\"/content/drive/MyDrive/combined/reviews.csv\")\n",
        "reviews=reviews.drop([\"ingredients\",\"texture\", \"likes\",\"taste\"],axis=1)\n",
        "\n"
      ],
      "execution_count": null,
      "outputs": []
    },
    {
      "cell_type": "markdown",
      "metadata": {
        "id": "us_Qvem_pKVo"
      },
      "source": [
        "2. Exploratory Data Analysis(Duplicates, Missing Data)\n",
        "\n",
        "3. Data Cleansing"
      ]
    },
    {
      "cell_type": "code",
      "metadata": {
        "colab": {
          "base_uri": "https://localhost:8080/"
        },
        "id": "qcqPpYwfYk4e",
        "outputId": "11902000-8d1e-4381-82ec-a1abb79807d6"
      },
      "source": [
        "# Datasets size\n",
        "print(products.shape)\n",
        "print(reviews.shape)"
      ],
      "execution_count": null,
      "outputs": [
        {
          "output_type": "stream",
          "text": [
            "(241, 7)\n",
            "(21674, 9)\n"
          ],
          "name": "stdout"
        }
      ]
    },
    {
      "cell_type": "code",
      "metadata": {
        "colab": {
          "base_uri": "https://localhost:8080/"
        },
        "id": "uTe3W862SHh_",
        "outputId": "2ba01d69-9834-4aec-9585-d89844d53ead"
      },
      "source": [
        "# Look for unique count of each feature\n",
        "products.nunique()"
      ],
      "execution_count": null,
      "outputs": [
        {
          "output_type": "execute_result",
          "data": {
            "text/plain": [
              "brand             4\n",
              "key             241\n",
              "name            240\n",
              "description     237\n",
              "rating           29\n",
              "rating_count    136\n",
              "ingredients     240\n",
              "dtype: int64"
            ]
          },
          "metadata": {
            "tags": []
          },
          "execution_count": 44
        }
      ]
    },
    {
      "cell_type": "markdown",
      "metadata": {
        "id": "jzdwNKZSpZWH"
      },
      "source": [
        "Take-away: \n",
        "1. By looking at unique count name and ingredients having one duplicate each let's see why it has a duplicate\n",
        "2. Description feature having 4 duplicate records"
      ]
    },
    {
      "cell_type": "code",
      "metadata": {
        "colab": {
          "base_uri": "https://localhost:8080/",
          "height": 77
        },
        "id": "U84_MwcJpdSt",
        "outputId": "3d5f9f80-55ec-4dbd-82a6-ecd8089bb01c"
      },
      "source": [
        "# Find the duplicate in name columns\n",
        "products[products['name'].duplicated()]"
      ],
      "execution_count": null,
      "outputs": [
        {
          "output_type": "execute_result",
          "data": {
            "text/html": [
              "<div>\n",
              "<style scoped>\n",
              "    .dataframe tbody tr th:only-of-type {\n",
              "        vertical-align: middle;\n",
              "    }\n",
              "\n",
              "    .dataframe tbody tr th {\n",
              "        vertical-align: top;\n",
              "    }\n",
              "\n",
              "    .dataframe thead th {\n",
              "        text-align: right;\n",
              "    }\n",
              "</style>\n",
              "<table border=\"1\" class=\"dataframe\">\n",
              "  <thead>\n",
              "    <tr style=\"text-align: right;\">\n",
              "      <th></th>\n",
              "      <th>brand</th>\n",
              "      <th>key</th>\n",
              "      <th>name</th>\n",
              "      <th>description</th>\n",
              "      <th>rating</th>\n",
              "      <th>rating_count</th>\n",
              "      <th>ingredients</th>\n",
              "    </tr>\n",
              "  </thead>\n",
              "  <tbody>\n",
              "    <tr>\n",
              "      <th>221</th>\n",
              "      <td>breyers</td>\n",
              "      <td>49_breyers</td>\n",
              "      <td>Chocolate Chip Cookie Dough</td>\n",
              "      <td>With creamy vanilla and chunks of cookie dough...</td>\n",
              "      <td>1.2</td>\n",
              "      <td>89</td>\n",
              "      <td>MILK, SUGAR, CORN SYRUP, CREAM, ENRICHED WHEAT...</td>\n",
              "    </tr>\n",
              "  </tbody>\n",
              "</table>\n",
              "</div>"
            ],
            "text/plain": [
              "       brand  ...                                        ingredients\n",
              "221  breyers  ...  MILK, SUGAR, CORN SYRUP, CREAM, ENRICHED WHEAT...\n",
              "\n",
              "[1 rows x 7 columns]"
            ]
          },
          "metadata": {
            "tags": []
          },
          "execution_count": 45
        }
      ]
    },
    {
      "cell_type": "code",
      "metadata": {
        "colab": {
          "base_uri": "https://localhost:8080/",
          "height": 106
        },
        "id": "AO7IdJDhplph",
        "outputId": "d23a103e-2afb-4f4c-a212-58fdafa8d932"
      },
      "source": [
        "#Find the other record with same name\n",
        "products[products['name'] == 'Chocolate Chip Cookie Dough']"
      ],
      "execution_count": null,
      "outputs": [
        {
          "output_type": "execute_result",
          "data": {
            "text/html": [
              "<div>\n",
              "<style scoped>\n",
              "    .dataframe tbody tr th:only-of-type {\n",
              "        vertical-align: middle;\n",
              "    }\n",
              "\n",
              "    .dataframe tbody tr th {\n",
              "        vertical-align: top;\n",
              "    }\n",
              "\n",
              "    .dataframe thead th {\n",
              "        text-align: right;\n",
              "    }\n",
              "</style>\n",
              "<table border=\"1\" class=\"dataframe\">\n",
              "  <thead>\n",
              "    <tr style=\"text-align: right;\">\n",
              "      <th></th>\n",
              "      <th>brand</th>\n",
              "      <th>key</th>\n",
              "      <th>name</th>\n",
              "      <th>description</th>\n",
              "      <th>rating</th>\n",
              "      <th>rating_count</th>\n",
              "      <th>ingredients</th>\n",
              "    </tr>\n",
              "  </thead>\n",
              "  <tbody>\n",
              "    <tr>\n",
              "      <th>16</th>\n",
              "      <td>bj</td>\n",
              "      <td>16_bj</td>\n",
              "      <td>Chocolate Chip Cookie Dough</td>\n",
              "      <td>We knew we were onto something big when we mad...</td>\n",
              "      <td>4.6</td>\n",
              "      <td>983</td>\n",
              "      <td>CREAM, SKIM MILK, LIQUID SUGAR (SUGAR, WATER),...</td>\n",
              "    </tr>\n",
              "    <tr>\n",
              "      <th>221</th>\n",
              "      <td>breyers</td>\n",
              "      <td>49_breyers</td>\n",
              "      <td>Chocolate Chip Cookie Dough</td>\n",
              "      <td>With creamy vanilla and chunks of cookie dough...</td>\n",
              "      <td>1.2</td>\n",
              "      <td>89</td>\n",
              "      <td>MILK, SUGAR, CORN SYRUP, CREAM, ENRICHED WHEAT...</td>\n",
              "    </tr>\n",
              "  </tbody>\n",
              "</table>\n",
              "</div>"
            ],
            "text/plain": [
              "       brand  ...                                        ingredients\n",
              "16        bj  ...  CREAM, SKIM MILK, LIQUID SUGAR (SUGAR, WATER),...\n",
              "221  breyers  ...  MILK, SUGAR, CORN SYRUP, CREAM, ENRICHED WHEAT...\n",
              "\n",
              "[2 rows x 7 columns]"
            ]
          },
          "metadata": {
            "tags": []
          },
          "execution_count": 46
        }
      ]
    },
    {
      "cell_type": "markdown",
      "metadata": {
        "id": "XmE_Y_kDp8NN"
      },
      "source": [
        "Take-away: Same name but different brand, so make sense to keep both"
      ]
    },
    {
      "cell_type": "code",
      "metadata": {
        "colab": {
          "base_uri": "https://localhost:8080/"
        },
        "id": "4o-DCMNpqCU0",
        "outputId": "43d7b1dd-f4bd-4806-fbb3-5611be5d11a2"
      },
      "source": [
        "# Check of count of each column\n",
        "products.count()"
      ],
      "execution_count": null,
      "outputs": [
        {
          "output_type": "execute_result",
          "data": {
            "text/plain": [
              "brand           241\n",
              "key             241\n",
              "name            241\n",
              "description     237\n",
              "rating          241\n",
              "rating_count    241\n",
              "ingredients     241\n",
              "dtype: int64"
            ]
          },
          "metadata": {
            "tags": []
          },
          "execution_count": 47
        }
      ]
    },
    {
      "cell_type": "code",
      "metadata": {
        "colab": {
          "base_uri": "https://localhost:8080/"
        },
        "id": "kxUc4e1iqIKb",
        "outputId": "f4ba2ec7-c537-412d-d421-485cc177ce4d"
      },
      "source": [
        "# Look for count of nulls in products dataframe\n",
        "products.isna().sum()"
      ],
      "execution_count": null,
      "outputs": [
        {
          "output_type": "execute_result",
          "data": {
            "text/plain": [
              "brand           0\n",
              "key             0\n",
              "name            0\n",
              "description     4\n",
              "rating          0\n",
              "rating_count    0\n",
              "ingredients     0\n",
              "dtype: int64"
            ]
          },
          "metadata": {
            "tags": []
          },
          "execution_count": 48
        }
      ]
    },
    {
      "cell_type": "code",
      "metadata": {
        "colab": {
          "base_uri": "https://localhost:8080/",
          "height": 166
        },
        "id": "R4ENPfBdqRJX",
        "outputId": "5959d350-6666-485f-94b7-0feea512f726"
      },
      "source": [
        "# Explore the data where description is null\n",
        "products[products['description'].isnull()]"
      ],
      "execution_count": null,
      "outputs": [
        {
          "output_type": "execute_result",
          "data": {
            "text/html": [
              "<div>\n",
              "<style scoped>\n",
              "    .dataframe tbody tr th:only-of-type {\n",
              "        vertical-align: middle;\n",
              "    }\n",
              "\n",
              "    .dataframe tbody tr th {\n",
              "        vertical-align: top;\n",
              "    }\n",
              "\n",
              "    .dataframe thead th {\n",
              "        text-align: right;\n",
              "    }\n",
              "</style>\n",
              "<table border=\"1\" class=\"dataframe\">\n",
              "  <thead>\n",
              "    <tr style=\"text-align: right;\">\n",
              "      <th></th>\n",
              "      <th>brand</th>\n",
              "      <th>key</th>\n",
              "      <th>name</th>\n",
              "      <th>description</th>\n",
              "      <th>rating</th>\n",
              "      <th>rating_count</th>\n",
              "      <th>ingredients</th>\n",
              "    </tr>\n",
              "  </thead>\n",
              "  <tbody>\n",
              "    <tr>\n",
              "      <th>139</th>\n",
              "      <td>talenti</td>\n",
              "      <td>12_talenti</td>\n",
              "      <td>COCONUT CHOCOLATE COOKIE</td>\n",
              "      <td>NaN</td>\n",
              "      <td>4.3</td>\n",
              "      <td>29</td>\n",
              "      <td>WATER, SUGAR, DESICCATED COCONUT, COCONUT OIL,...</td>\n",
              "    </tr>\n",
              "    <tr>\n",
              "      <th>158</th>\n",
              "      <td>talenti</td>\n",
              "      <td>31_talenti</td>\n",
              "      <td>PACIFIC COAST PISTACHIO GELATO</td>\n",
              "      <td>NaN</td>\n",
              "      <td>4.5</td>\n",
              "      <td>201</td>\n",
              "      <td>MILK, SUGAR, CREAM, PISTACHIOS, DEXTROSE, CARO...</td>\n",
              "    </tr>\n",
              "    <tr>\n",
              "      <th>165</th>\n",
              "      <td>talenti</td>\n",
              "      <td>38_talenti</td>\n",
              "      <td>SALTED CARAMEL TRUFFLE</td>\n",
              "      <td>NaN</td>\n",
              "      <td>4.7</td>\n",
              "      <td>160</td>\n",
              "      <td>MILK, SUGAR, SKIM MILK, CREAM, WATER, COCONUT ...</td>\n",
              "    </tr>\n",
              "    <tr>\n",
              "      <th>166</th>\n",
              "      <td>talenti</td>\n",
              "      <td>39_talenti</td>\n",
              "      <td>SEA SALT CARAMEL GELATO</td>\n",
              "      <td>NaN</td>\n",
              "      <td>4.1</td>\n",
              "      <td>146</td>\n",
              "      <td>MILK, SKIM MILK, SUGAR, CREAM, EGG YOLK AND WH...</td>\n",
              "    </tr>\n",
              "  </tbody>\n",
              "</table>\n",
              "</div>"
            ],
            "text/plain": [
              "       brand  ...                                        ingredients\n",
              "139  talenti  ...  WATER, SUGAR, DESICCATED COCONUT, COCONUT OIL,...\n",
              "158  talenti  ...  MILK, SUGAR, CREAM, PISTACHIOS, DEXTROSE, CARO...\n",
              "165  talenti  ...  MILK, SUGAR, SKIM MILK, CREAM, WATER, COCONUT ...\n",
              "166  talenti  ...  MILK, SKIM MILK, SUGAR, CREAM, EGG YOLK AND WH...\n",
              "\n",
              "[4 rows x 7 columns]"
            ]
          },
          "metadata": {
            "tags": []
          },
          "execution_count": 49
        }
      ]
    },
    {
      "cell_type": "markdown",
      "metadata": {
        "id": "U0PA1gDsqiqJ"
      },
      "source": [
        "Take-away: As Description feature having nulls not even 2% of the dataset  so \n",
        "dropping those records won't impact."
      ]
    },
    {
      "cell_type": "code",
      "metadata": {
        "id": "oOUdAFEGqmJ2"
      },
      "source": [
        "# Drop records where null values in any column\n",
        "products.dropna(inplace=True)"
      ],
      "execution_count": null,
      "outputs": []
    },
    {
      "cell_type": "code",
      "metadata": {
        "colab": {
          "base_uri": "https://localhost:8080/"
        },
        "id": "03oCNKcEquT4",
        "outputId": "fb9283d3-21c2-405c-8d12-cdae3aafd4d0"
      },
      "source": [
        "#Check count of each column\n",
        "products.count()"
      ],
      "execution_count": null,
      "outputs": [
        {
          "output_type": "execute_result",
          "data": {
            "text/plain": [
              "brand           237\n",
              "key             237\n",
              "name            237\n",
              "description     237\n",
              "rating          237\n",
              "rating_count    237\n",
              "ingredients     237\n",
              "dtype: int64"
            ]
          },
          "metadata": {
            "tags": []
          },
          "execution_count": 51
        }
      ]
    },
    {
      "cell_type": "markdown",
      "metadata": {
        "id": "tEVW07LFrAW6"
      },
      "source": [
        "4.Data preprocessing"
      ]
    },
    {
      "cell_type": "code",
      "metadata": {
        "id": "wcF4QKg8R-qq"
      },
      "source": [
        "# Slicing the dependent & independent features\n",
        "x = products['description']\n",
        "y = products['key']"
      ],
      "execution_count": null,
      "outputs": []
    },
    {
      "cell_type": "code",
      "metadata": {
        "colab": {
          "base_uri": "https://localhost:8080/"
        },
        "id": "8FilTu1DYp0D",
        "outputId": "7e9f7cd6-2c54-42c6-9e4f-0b3dded46096"
      },
      "source": [
        "# Check for max length of words in x, y\n",
        "print(\"Max length of Ingridents\", x.apply(lambda x:len(str(x).split())).max())\n",
        "print(\"Max length of Key\", y.apply(lambda x:len(str(x).split())).max())"
      ],
      "execution_count": null,
      "outputs": [
        {
          "output_type": "stream",
          "text": [
            "Max length of Ingridents 150\n",
            "Max length of Key 1\n"
          ],
          "name": "stdout"
        }
      ]
    },
    {
      "cell_type": "code",
      "metadata": {
        "id": "K14MPA9tJLmM"
      },
      "source": [
        "# Lable encoding for ice cream keys\n",
        "mlb = MultiLabelBinarizer()\n",
        "\n",
        "res = pd.DataFrame(mlb.fit_transform(x),\n",
        "                   columns=mlb.classes_,\n",
        "                   index=x.index)"
      ],
      "execution_count": null,
      "outputs": []
    },
    {
      "cell_type": "markdown",
      "metadata": {
        "id": "2RL09anxX7Z2"
      },
      "source": [
        "Preparing the data for training using train_test_split.\n",
        "https://www.bitdegree.org/learn/train-test-split"
      ]
    },
    {
      "cell_type": "code",
      "metadata": {
        "id": "XhVHMNGFC_M5",
        "colab": {
          "base_uri": "https://localhost:8080/"
        },
        "outputId": "d083f911-c384-46c4-dbb3-c0f752735c36"
      },
      "source": [
        "\n",
        "## split the data \n",
        "x_train, x_test, y_train, y_test = train_test_split(res,y, test_size=0.2, random_state=42)\n",
        "#train, test = train_test_split(products, test_size=0.2, random_state=42)\n",
        "\n",
        "print(\"Train data shape:\", len(x_train))\n",
        "print(\"Test shape:\", len(x_test))"
      ],
      "execution_count": null,
      "outputs": [
        {
          "output_type": "stream",
          "text": [
            "Train data shape: 189\n",
            "Test shape: 48\n"
          ],
          "name": "stdout"
        }
      ]
    },
    {
      "cell_type": "code",
      "metadata": {
        "colab": {
          "base_uri": "https://localhost:8080/"
        },
        "id": "Adk2t-lShvb_",
        "outputId": "602a5d00-2d1b-4105-c2ab-ac74c48a0cdb"
      },
      "source": [
        "print(len(x_train))\n",
        "print(len(x_test))"
      ],
      "execution_count": null,
      "outputs": [
        {
          "output_type": "stream",
          "text": [
            "189\n",
            "48\n"
          ],
          "name": "stdout"
        }
      ]
    },
    {
      "cell_type": "code",
      "metadata": {
        "colab": {
          "base_uri": "https://localhost:8080/"
        },
        "id": "HqfbEe6sj40G",
        "outputId": "9f700928-85c9-424c-c069-3701b95dd010"
      },
      "source": [
        "y_test.shape"
      ],
      "execution_count": null,
      "outputs": [
        {
          "output_type": "execute_result",
          "data": {
            "text/plain": [
              "(48,)"
            ]
          },
          "metadata": {
            "tags": []
          },
          "execution_count": 19
        }
      ]
    },
    {
      "cell_type": "code",
      "metadata": {
        "id": "wzIsBGPwnWTj"
      },
      "source": [
        "from sklearn.preprocessing import LabelEncoder\n",
        "le = LabelEncoder()\n",
        "y_train = le.fit_transform(y_train)\n",
        "y_test = le.fit_transform(y_test)"
      ],
      "execution_count": null,
      "outputs": []
    },
    {
      "cell_type": "code",
      "metadata": {
        "id": "thodKWgboG5C"
      },
      "source": [
        "norm = np.linalg.norm(y_train)\n",
        "y_train = y_train/norm"
      ],
      "execution_count": null,
      "outputs": []
    },
    {
      "cell_type": "code",
      "metadata": {
        "id": "hhcbeLMRoa99"
      },
      "source": [
        "norm = np.linalg.norm(y_test)\n",
        "y_test = y_test/norm"
      ],
      "execution_count": null,
      "outputs": []
    },
    {
      "cell_type": "code",
      "metadata": {
        "id": "7HFemzpBpOjl"
      },
      "source": [
        "# building RNN model\n",
        "max_features = 3000\n",
        "rnn_hidden_dim = 100\n",
        "word_embedding_dim = 30000\n",
        "model_rnn = Sequential()\n",
        "model_rnn.add(Embedding(max_features, word_embedding_dim))\n",
        "model_rnn.add(SimpleRNN(rnn_hidden_dim,\n",
        "                    kernel_initializer=initializers.RandomNormal(stddev=0.001),\n",
        "                    recurrent_initializer=initializers.Identity(gain=1.0),\n",
        "                    activation='relu',\n",
        "                    input_shape=x_train.shape[1:]))\n",
        "\n",
        "model_rnn.add(Dense(237, activation='sigmoid'))"
      ],
      "execution_count": null,
      "outputs": []
    },
    {
      "cell_type": "code",
      "metadata": {
        "colab": {
          "base_uri": "https://localhost:8080/"
        },
        "id": "uZSy2Pe5pOQG",
        "outputId": "11a7e68d-9245-4ead-82ff-f9fc6664480d"
      },
      "source": [
        "model_rnn.summary()"
      ],
      "execution_count": null,
      "outputs": [
        {
          "output_type": "stream",
          "text": [
            "Model: \"sequential_1\"\n",
            "_________________________________________________________________\n",
            "Layer (type)                 Output Shape              Param #   \n",
            "=================================================================\n",
            "embedding_1 (Embedding)      (None, None, 30000)       90000000  \n",
            "_________________________________________________________________\n",
            "simple_rnn_1 (SimpleRNN)     (None, 100)               3010100   \n",
            "_________________________________________________________________\n",
            "dense_1 (Dense)              (None, 237)               23937     \n",
            "=================================================================\n",
            "Total params: 93,034,037\n",
            "Trainable params: 93,034,037\n",
            "Non-trainable params: 0\n",
            "_________________________________________________________________\n"
          ],
          "name": "stdout"
        }
      ]
    },
    {
      "cell_type": "code",
      "metadata": {
        "id": "Xs7XQrKWpOCS"
      },
      "source": [
        "rmsprop = keras.optimizers.RMSprop(lr = .1)\n",
        "\n",
        "model_rnn.compile(loss='SparseCategoricalCrossentropy',\n",
        "              optimizer=rmsprop,\n",
        "              metrics=['accuracy'])"
      ],
      "execution_count": null,
      "outputs": []
    },
    {
      "cell_type": "code",
      "metadata": {
        "colab": {
          "base_uri": "https://localhost:8080/"
        },
        "id": "Sm3azI89pNwB",
        "outputId": "73642161-6a8a-4019-fcee-5399fae9a659"
      },
      "source": [
        "batch_size = 32\n",
        "model = model_rnn.fit(x_train, y_train,\n",
        "          batch_size=batch_size,\n",
        "          epochs=10,\n",
        "          validation_data=(x_test, y_test))"
      ],
      "execution_count": null,
      "outputs": [
        {
          "output_type": "stream",
          "text": [
            "Epoch 1/10\n",
            "6/6 [==============================] - 11s 2s/step - loss: nan - accuracy: 0.0072 - val_loss: nan - val_accuracy: 0.0208\n",
            "Epoch 2/10\n",
            "6/6 [==============================] - 9s 1s/step - loss: nan - accuracy: 0.0072 - val_loss: nan - val_accuracy: 0.0208\n",
            "Epoch 3/10\n",
            "6/6 [==============================] - 9s 1s/step - loss: nan - accuracy: 0.0072 - val_loss: nan - val_accuracy: 0.0208\n",
            "Epoch 4/10\n",
            "6/6 [==============================] - 9s 1s/step - loss: nan - accuracy: 0.0117 - val_loss: nan - val_accuracy: 0.0208\n",
            "Epoch 5/10\n",
            "6/6 [==============================] - 9s 1s/step - loss: nan - accuracy: 0.0072 - val_loss: nan - val_accuracy: 0.0208\n",
            "Epoch 6/10\n",
            "6/6 [==============================] - 9s 1s/step - loss: nan - accuracy: 0.0072 - val_loss: nan - val_accuracy: 0.0208\n",
            "Epoch 7/10\n",
            "6/6 [==============================] - 9s 1s/step - loss: nan - accuracy: 0.0117 - val_loss: nan - val_accuracy: 0.0208\n",
            "Epoch 8/10\n",
            "6/6 [==============================] - 9s 1s/step - loss: nan - accuracy: 0.0117 - val_loss: nan - val_accuracy: 0.0208\n",
            "Epoch 9/10\n",
            "6/6 [==============================] - 9s 1s/step - loss: nan - accuracy: 0.0035 - val_loss: nan - val_accuracy: 0.0208\n",
            "Epoch 10/10\n",
            "6/6 [==============================] - 9s 1s/step - loss: nan - accuracy: 0.0035 - val_loss: nan - val_accuracy: 0.0208\n"
          ],
          "name": "stdout"
        }
      ]
    },
    {
      "cell_type": "code",
      "metadata": {
        "colab": {
          "base_uri": "https://localhost:8080/"
        },
        "id": "VQoSiCpcbb4C",
        "outputId": "0d7a2e69-2de2-48bb-a3a5-bfa282fa186a"
      },
      "source": [
        "print(len(y_train))\n",
        "print(len(y_test))"
      ],
      "execution_count": null,
      "outputs": [
        {
          "output_type": "stream",
          "text": [
            "189\n",
            "48\n"
          ],
          "name": "stdout"
        }
      ]
    },
    {
      "cell_type": "code",
      "metadata": {
        "id": "qwzcdkWJc_BI",
        "colab": {
          "base_uri": "https://localhost:8080/"
        },
        "outputId": "ea640a88-86ad-4f57-eb42-32b93328bec7"
      },
      "source": [
        "# variable for unique product key for ice cream brand and flavor\n",
        "n_product = len(products.key.unique())\n",
        "print(n_product)"
      ],
      "execution_count": null,
      "outputs": [
        {
          "output_type": "stream",
          "text": [
            "237\n"
          ],
          "name": "stdout"
        }
      ]
    },
    {
      "cell_type": "code",
      "metadata": {
        "id": "wufKaxFLs0kO",
        "colab": {
          "base_uri": "https://localhost:8080/",
          "height": 390
        },
        "outputId": "202b8c9a-7e63-4006-ca91-b60d277254cb"
      },
      "source": [
        "# Write a function to plot the train & test losses\n",
        "def plot_loss_accuracy(history):\n",
        "    fig = plt.figure(figsize=(12, 6))\n",
        "    ax = fig.add_subplot(1, 2, 1)\n",
        "    ax.plot(history.history[\"loss\"],'r-x', label=\"Train Loss\")\n",
        "    ax.plot(history.history[\"val_loss\"],'b-x', label=\"Validation Loss\")\n",
        "    ax.legend()\n",
        "    ax.set_title('cross_entropy loss')\n",
        "    ax.grid(True)\n",
        "\n",
        "\n",
        "    ax = fig.add_subplot(1, 2, 2)\n",
        "    ax.plot(history.history[\"accuracy\"],'r-x', label=\"Train Accuracy\")\n",
        "    ax.plot(history.history[\"val_accuracy\"],'b-x', label=\"Validation Accuracy\")\n",
        "    ax.legend()\n",
        "    ax.set_title('accuracy')\n",
        "    ax.grid(True)  \n",
        "\n",
        "# Calling the function\n",
        "plot_loss_accuracy(model)"
      ],
      "execution_count": null,
      "outputs": [
        {
          "output_type": "display_data",
          "data": {
            "image/png": "[encoded data removed]",
            "text/plain": [
              "<Figure size 864x432 with 2 Axes>"
            ]
          },
          "metadata": {
            "tags": [],
            "needs_background": "light"
          }
        }
      ]
    },
    {
      "cell_type": "code",
      "metadata": {
        "id": "KfSvgqwafgOi"
      },
      "source": [
        ""
      ],
      "execution_count": null,
      "outputs": []
    }
  ]
}