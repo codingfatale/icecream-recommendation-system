{
  "nbformat": 4,
  "nbformat_minor": 0,
  "metadata": {
    "colab": {
      "name": "icecream_simple_RNN_test.ipynb",
      "provenance": [],
      "mount_file_id": "1l_2oklKLu4PldAt1_DSnui_Ecann6W48",
      "authorship_tag": "ABX9TyNLqCuRyb0RL+JIyDrGuZ7x",
      "include_colab_link": true
    },
    "kernelspec": {
      "name": "python3",
      "display_name": "Python 3"
    },
    "language_info": {
      "name": "python"
    }
  },
  "cells": [
    {
      "cell_type": "markdown",
      "metadata": {
        "id": "view-in-github",
        "colab_type": "text"
      },
      "source": [
        "<a href=\"https://colab.research.google.com/github/kiwihero/icecream-recommendation-system/blob/main/icecream_simple_RNN_test.ipynb\" target=\"_parent\"><img src=\"https://colab.research.google.com/assets/colab-badge.svg\" alt=\"Open In Colab\"/></a>"
      ]
    },
    {
      "cell_type": "code",
      "metadata": {
        "id": "SKmN54tt_vZy"
      },
      "source": [
        "#imports\n",
        "import numpy as np\n",
        "import pandas as pd\n",
        "from __future__ import print_function\n",
        "import keras\n",
        "from keras.preprocessing import sequence\n",
        "from keras.models import Sequential\n",
        "from keras.layers import Dense, Embedding\n",
        "from keras.layers import SimpleRNN\n",
        "from keras import initializers"
      ],
      "execution_count": null,
      "outputs": []
    },
    {
      "cell_type": "code",
      "metadata": {
        "id": "DTSPdbrAPqkD"
      },
      "source": [
        "# Import PyDrive and associated libraries.\n",
        "# This only needs to be done once per notebook.\n",
        "from pydrive.auth import GoogleAuth\n",
        "from pydrive.drive import GoogleDrive\n",
        "from google.colab import auth\n",
        "from oauth2client.client import GoogleCredentials\n",
        "\n",
        "# Authenticate and create the PyDrive client.\n",
        "# This only needs to be done once per notebook.\n",
        "auth.authenticate_user()\n",
        "gauth = GoogleAuth()\n",
        "gauth.credentials = GoogleCredentials.get_application_default()\n",
        "drive = GoogleDrive(gauth)\n",
        "\n",
        "# Download a file based on its file ID.\n",
        "#\n",
        "# A file ID looks like: laggVyWshwcyP6kEI-y_W3P8D26sz\n",
        "file_id = 'REPLACE_WITH_YOUR_FILE_ID'\n",
        "downloaded = drive.CreateFile({'id': file_id})\n",
        "print('Downloaded content \"{}\"'.format(downloaded.GetContentString()))"
      ],
      "execution_count": null,
      "outputs": []
    },
    {
      "cell_type": "code",
      "metadata": {
        "id": "UIjKkhQgC_pp"
      },
      "source": [
        "dataset = pd.read_csv(\"/content/drive/My Drive/Kaggle/combined/products.csv\")\n",
        "dataset = dataset.drop(\"subhead\",1)"
      ],
      "execution_count": null,
      "outputs": []
    },
    {
      "cell_type": "code",
      "metadata": {
        "id": "kr5BWe6qC_Vk"
      },
      "source": [
        "max_features = 30000\n",
        "maxlen = 50  \n",
        "batch_size = 32"
      ],
      "execution_count": null,
      "outputs": []
    },
    {
      "cell_type": "code",
      "metadata": {
        "id": "XhVHMNGFC_M5"
      },
      "source": [
        "## Load in the data.  The function automatically tokenizes the text into distinct integers\n",
        "(x_train, y_train), (x_test, y_test) = dataset.load_data(num_words=max_features)\n",
        "print(len(x_train), 'train sequences')\n",
        "print(len(x_test), 'test sequences')"
      ],
      "execution_count": null,
      "outputs": []
    },
    {
      "cell_type": "code",
      "metadata": {
        "id": "uSUkRwEAC_Eq"
      },
      "source": [
        "# This pads (or truncates) the sequences so that they are of the maximum length\n",
        "x_train = sequence.pad_sequences(x_train, maxlen=maxlen)\n",
        "x_test = sequence.pad_sequences(x_test, maxlen=maxlen)\n",
        "print('x_train shape:', x_train.shape)\n",
        "print('x_test shape:', x_test.shape)"
      ],
      "execution_count": null,
      "outputs": []
    },
    {
      "cell_type": "code",
      "metadata": {
        "id": "kP4tjZ42C-7M"
      },
      "source": [
        "x_train[123,:]"
      ],
      "execution_count": null,
      "outputs": []
    },
    {
      "cell_type": "code",
      "metadata": {
        "id": "aBFPpgbcPhqc"
      },
      "source": [
        "# building RNN model\n",
        "rnn_hidden_dim = 10\n",
        "word_embedding_dim = 50\n",
        "model_rnn = Sequential()\n",
        "model_rnn.add(Embedding(max_features, word_embedding_dim))\n",
        "model_rnn.add(SimpleRNN(rnn_hidden_dim,\n",
        "                    kernel_initializer=initializers.RandomNormal(stddev=0.001),\n",
        "                    recurrent_initializer=initializers.Identity(gain=1.0),\n",
        "                    activation='relu',\n",
        "                    input_shape=x_train.shape[1:]))\n",
        "\n",
        "model_rnn.add(Dense(1, activation='sigmoid'))"
      ],
      "execution_count": null,
      "outputs": []
    },
    {
      "cell_type": "code",
      "metadata": {
        "id": "GvMigw76Phhm"
      },
      "source": [
        "model_rnn.summary()"
      ],
      "execution_count": null,
      "outputs": []
    },
    {
      "cell_type": "code",
      "metadata": {
        "id": "ixFxeQQjPhXk"
      },
      "source": [
        "rmsprop = keras.optimizers.RMSprop(lr = .0001)\n",
        "\n",
        "model_rnn.compile(loss='binary_crossentropy',\n",
        "              optimizer=rmsprop,\n",
        "              metrics=['accuracy'])"
      ],
      "execution_count": null,
      "outputs": []
    },
    {
      "cell_type": "code",
      "metadata": {
        "id": "q2AVujMBTby8"
      },
      "source": [
        "model_rnn.fit(x_train, y_train,\n",
        "          batch_size=batch_size,\n",
        "          epochs=10,\n",
        "          validation_data=(x_test, y_test))"
      ],
      "execution_count": null,
      "outputs": []
    },
    {
      "cell_type": "code",
      "metadata": {
        "id": "MPwYfRRvTbsZ"
      },
      "source": [
        "score, acc = model_rnn.evaluate(x_test, y_test,\n",
        "                            batch_size=batch_size)\n",
        "print('Test score:', score)\n",
        "print('Test accuracy:', acc)"
      ],
      "execution_count": null,
      "outputs": []
    }
  ]
}