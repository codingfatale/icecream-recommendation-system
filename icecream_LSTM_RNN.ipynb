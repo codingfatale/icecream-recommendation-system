{
  "nbformat": 4,
  "nbformat_minor": 0,
  "metadata": {
    "colab": {
      "name": " icecream_LSTM_RNN.ipynb",
      "provenance": [],
      "include_colab_link": true
    },
    "kernelspec": {
      "name": "python3",
      "display_name": "Python 3"
    },
    "language_info": {
      "name": "python"
    }
  },
  "cells": [
    {
      "cell_type": "markdown",
      "metadata": {
        "id": "view-in-github",
        "colab_type": "text"
      },
      "source": [
        "<a href=\"https://colab.research.google.com/github/kiwihero/icecream-recommendation-system/blob/simpleRNN/icecream_LSTM_RNN.ipynb\" target=\"_parent\"><img src=\"https://colab.research.google.com/assets/colab-badge.svg\" alt=\"Open In Colab\"/></a>"
      ]
    },
    {
      "cell_type": "markdown",
      "metadata": {
        "id": "rG88X1BJoeG-"
      },
      "source": [
        "### Icecream Recomendation system using RNN\n",
        "\n",
        "    1.Import necessary Libraries\n",
        "    2.Exploratory Data Analysis(Duplicates, Missing Data)\n",
        "    3.Data Clensing & Feature Engineering\n",
        "    4.Data preprocessing\n",
        "    5.Model Building\n",
        "    6.Model Evaluation"
      ]
    },
    {
      "cell_type": "markdown",
      "metadata": {
        "id": "ktmGd1XjotHr"
      },
      "source": [
        "1. Import libraries"
      ]
    },
    {
      "cell_type": "code",
      "metadata": {
        "id": "SKmN54tt_vZy"
      },
      "source": [
        "#imports\n",
        "import numpy as np #Mathematical Operations\n",
        "import pandas as pd #Data analysis\n",
        "import matplotlib.pyplot as plt \n",
        "import seaborn as sns #Visulisation\n",
        "from __future__ import print_function\n",
        "from sklearn.preprocessing import LabelEncoder, MultiLabelBinarizer, normalize\n",
        "from sklearn.model_selection import train_test_split\n",
        "import keras\n",
        "from keras.preprocessing import sequence #To preprocess sequence data\n",
        "from keras.models import Sequential #Sequential Model\n",
        "from keras.layers import Dense, Embedding,Dropout,LSTM,Flatten #Fully connected layer\n",
        "from keras.layers import SimpleRNN #Model\n",
        "from keras import initializers #To initialize random weights of layers\n",
        "from keras.preprocessing.text import Tokenizer"
      ],
      "execution_count": 2,
      "outputs": []
    },
    {
      "cell_type": "code",
      "metadata": {
        "colab": {
          "base_uri": "https://localhost:8080/"
        },
        "id": "CL-IuPSXA9FI",
        "outputId": "c3ef4380-7f5d-4631-de7d-d9b229470fb7"
      },
      "source": [
        "from google.colab import drive\n",
        "drive.mount('/content/drive')"
      ],
      "execution_count": 5,
      "outputs": [
        {
          "output_type": "stream",
          "text": [
            "Mounted at /content/drive\n"
          ],
          "name": "stdout"
        }
      ]
    },
    {
      "cell_type": "code",
      "metadata": {
        "id": "UIjKkhQgC_pp"
      },
      "source": [
        "# processing data set and filtering out columns that have no information\n",
        "products = pd.read_csv(\"/content/drive/MyDrive/Kaggle/combined/products.csv\")\n",
        "products = products.drop([\"subhead\"],1)\n",
        "\n",
        "reviews = pd.read_csv(\"/content/drive/MyDrive/Kaggle/combined/reviews.csv\")\n",
        "reviews=reviews.drop([\"ingredients\",\"texture\", \"likes\",\"taste\"],axis=1)\n",
        "\n"
      ],
      "execution_count": 6,
      "outputs": []
    },
    {
      "cell_type": "markdown",
      "metadata": {
        "id": "us_Qvem_pKVo"
      },
      "source": [
        "2. Exploratory Data Analysis(Duplicates, Missing Data)\n",
        "\n",
        "3. Data Cleansing"
      ]
    },
    {
      "cell_type": "code",
      "metadata": {
        "colab": {
          "base_uri": "https://localhost:8080/"
        },
        "id": "qcqPpYwfYk4e",
        "outputId": "3546ff0b-02e2-43c5-a7f5-5b89b8e707d8"
      },
      "source": [
        "# Datasets size\n",
        "print(products.shape)\n",
        "print(reviews.shape)"
      ],
      "execution_count": 7,
      "outputs": [
        {
          "output_type": "stream",
          "text": [
            "(241, 7)\n",
            "(21674, 9)\n"
          ],
          "name": "stdout"
        }
      ]
    },
    {
      "cell_type": "code",
      "metadata": {
        "colab": {
          "base_uri": "https://localhost:8080/"
        },
        "id": "uTe3W862SHh_",
        "outputId": "fbfd2fe9-e042-4b83-b74f-206d0a3294e2"
      },
      "source": [
        "# Look for unique count of each feature\n",
        "products.nunique()"
      ],
      "execution_count": 8,
      "outputs": [
        {
          "output_type": "execute_result",
          "data": {
            "text/plain": [
              "brand             4\n",
              "key             241\n",
              "name            240\n",
              "description     237\n",
              "rating           29\n",
              "rating_count    136\n",
              "ingredients     240\n",
              "dtype: int64"
            ]
          },
          "metadata": {
            "tags": []
          },
          "execution_count": 8
        }
      ]
    },
    {
      "cell_type": "markdown",
      "metadata": {
        "id": "jzdwNKZSpZWH"
      },
      "source": [
        "Take-away: \n",
        "1. By looking at unique count name and ingredients having one duplicate each let's see why it has a duplicate\n",
        "2. Description feature having 4 duplicate records"
      ]
    },
    {
      "cell_type": "code",
      "metadata": {
        "colab": {
          "base_uri": "https://localhost:8080/",
          "height": 81
        },
        "id": "U84_MwcJpdSt",
        "outputId": "9acff3d3-6fd4-429d-b2c5-1253b4913080"
      },
      "source": [
        "# Find the duplicate in name columns\n",
        "products[products['name'].duplicated()]"
      ],
      "execution_count": 9,
      "outputs": [
        {
          "output_type": "execute_result",
          "data": {
            "text/html": [
              "<div>\n",
              "<style scoped>\n",
              "    .dataframe tbody tr th:only-of-type {\n",
              "        vertical-align: middle;\n",
              "    }\n",
              "\n",
              "    .dataframe tbody tr th {\n",
              "        vertical-align: top;\n",
              "    }\n",
              "\n",
              "    .dataframe thead th {\n",
              "        text-align: right;\n",
              "    }\n",
              "</style>\n",
              "<table border=\"1\" class=\"dataframe\">\n",
              "  <thead>\n",
              "    <tr style=\"text-align: right;\">\n",
              "      <th></th>\n",
              "      <th>brand</th>\n",
              "      <th>key</th>\n",
              "      <th>name</th>\n",
              "      <th>description</th>\n",
              "      <th>rating</th>\n",
              "      <th>rating_count</th>\n",
              "      <th>ingredients</th>\n",
              "    </tr>\n",
              "  </thead>\n",
              "  <tbody>\n",
              "    <tr>\n",
              "      <th>221</th>\n",
              "      <td>breyers</td>\n",
              "      <td>49_breyers</td>\n",
              "      <td>Chocolate Chip Cookie Dough</td>\n",
              "      <td>With creamy vanilla and chunks of cookie dough...</td>\n",
              "      <td>1.2</td>\n",
              "      <td>89</td>\n",
              "      <td>MILK, SUGAR, CORN SYRUP, CREAM, ENRICHED WHEAT...</td>\n",
              "    </tr>\n",
              "  </tbody>\n",
              "</table>\n",
              "</div>"
            ],
            "text/plain": [
              "       brand  ...                                        ingredients\n",
              "221  breyers  ...  MILK, SUGAR, CORN SYRUP, CREAM, ENRICHED WHEAT...\n",
              "\n",
              "[1 rows x 7 columns]"
            ]
          },
          "metadata": {
            "tags": []
          },
          "execution_count": 9
        }
      ]
    },
    {
      "cell_type": "code",
      "metadata": {
        "colab": {
          "base_uri": "https://localhost:8080/",
          "height": 112
        },
        "id": "AO7IdJDhplph",
        "outputId": "5c83761f-6f26-4d89-974d-a1ebd057b00a"
      },
      "source": [
        "#Find the other record with same name\n",
        "products[products['name'] == 'Chocolate Chip Cookie Dough']"
      ],
      "execution_count": 10,
      "outputs": [
        {
          "output_type": "execute_result",
          "data": {
            "text/html": [
              "<div>\n",
              "<style scoped>\n",
              "    .dataframe tbody tr th:only-of-type {\n",
              "        vertical-align: middle;\n",
              "    }\n",
              "\n",
              "    .dataframe tbody tr th {\n",
              "        vertical-align: top;\n",
              "    }\n",
              "\n",
              "    .dataframe thead th {\n",
              "        text-align: right;\n",
              "    }\n",
              "</style>\n",
              "<table border=\"1\" class=\"dataframe\">\n",
              "  <thead>\n",
              "    <tr style=\"text-align: right;\">\n",
              "      <th></th>\n",
              "      <th>brand</th>\n",
              "      <th>key</th>\n",
              "      <th>name</th>\n",
              "      <th>description</th>\n",
              "      <th>rating</th>\n",
              "      <th>rating_count</th>\n",
              "      <th>ingredients</th>\n",
              "    </tr>\n",
              "  </thead>\n",
              "  <tbody>\n",
              "    <tr>\n",
              "      <th>16</th>\n",
              "      <td>bj</td>\n",
              "      <td>16_bj</td>\n",
              "      <td>Chocolate Chip Cookie Dough</td>\n",
              "      <td>We knew we were onto something big when we mad...</td>\n",
              "      <td>4.6</td>\n",
              "      <td>983</td>\n",
              "      <td>CREAM, SKIM MILK, LIQUID SUGAR (SUGAR, WATER),...</td>\n",
              "    </tr>\n",
              "    <tr>\n",
              "      <th>221</th>\n",
              "      <td>breyers</td>\n",
              "      <td>49_breyers</td>\n",
              "      <td>Chocolate Chip Cookie Dough</td>\n",
              "      <td>With creamy vanilla and chunks of cookie dough...</td>\n",
              "      <td>1.2</td>\n",
              "      <td>89</td>\n",
              "      <td>MILK, SUGAR, CORN SYRUP, CREAM, ENRICHED WHEAT...</td>\n",
              "    </tr>\n",
              "  </tbody>\n",
              "</table>\n",
              "</div>"
            ],
            "text/plain": [
              "       brand  ...                                        ingredients\n",
              "16        bj  ...  CREAM, SKIM MILK, LIQUID SUGAR (SUGAR, WATER),...\n",
              "221  breyers  ...  MILK, SUGAR, CORN SYRUP, CREAM, ENRICHED WHEAT...\n",
              "\n",
              "[2 rows x 7 columns]"
            ]
          },
          "metadata": {
            "tags": []
          },
          "execution_count": 10
        }
      ]
    },
    {
      "cell_type": "markdown",
      "metadata": {
        "id": "XmE_Y_kDp8NN"
      },
      "source": [
        "Take-away: Same name but different brand, so make sense to keep both"
      ]
    },
    {
      "cell_type": "code",
      "metadata": {
        "colab": {
          "base_uri": "https://localhost:8080/"
        },
        "id": "4o-DCMNpqCU0",
        "outputId": "d02cd881-b2d1-409d-bd1f-83bbc0be9fa6"
      },
      "source": [
        "# Check of count of each column\n",
        "products.count()"
      ],
      "execution_count": 11,
      "outputs": [
        {
          "output_type": "execute_result",
          "data": {
            "text/plain": [
              "brand           241\n",
              "key             241\n",
              "name            241\n",
              "description     237\n",
              "rating          241\n",
              "rating_count    241\n",
              "ingredients     241\n",
              "dtype: int64"
            ]
          },
          "metadata": {
            "tags": []
          },
          "execution_count": 11
        }
      ]
    },
    {
      "cell_type": "code",
      "metadata": {
        "colab": {
          "base_uri": "https://localhost:8080/"
        },
        "id": "kxUc4e1iqIKb",
        "outputId": "a7bd2422-817a-4e95-d793-4168f9ef9eec"
      },
      "source": [
        "# Look for count of nulls in products dataframe\n",
        "products.isna().sum()"
      ],
      "execution_count": 12,
      "outputs": [
        {
          "output_type": "execute_result",
          "data": {
            "text/plain": [
              "brand           0\n",
              "key             0\n",
              "name            0\n",
              "description     4\n",
              "rating          0\n",
              "rating_count    0\n",
              "ingredients     0\n",
              "dtype: int64"
            ]
          },
          "metadata": {
            "tags": []
          },
          "execution_count": 12
        }
      ]
    },
    {
      "cell_type": "code",
      "metadata": {
        "colab": {
          "base_uri": "https://localhost:8080/",
          "height": 175
        },
        "id": "R4ENPfBdqRJX",
        "outputId": "8726ba11-918f-4385-dac0-f02ce394369e"
      },
      "source": [
        "# Explore the data where description is null\n",
        "products[products['description'].isnull()]"
      ],
      "execution_count": 13,
      "outputs": [
        {
          "output_type": "execute_result",
          "data": {
            "text/html": [
              "<div>\n",
              "<style scoped>\n",
              "    .dataframe tbody tr th:only-of-type {\n",
              "        vertical-align: middle;\n",
              "    }\n",
              "\n",
              "    .dataframe tbody tr th {\n",
              "        vertical-align: top;\n",
              "    }\n",
              "\n",
              "    .dataframe thead th {\n",
              "        text-align: right;\n",
              "    }\n",
              "</style>\n",
              "<table border=\"1\" class=\"dataframe\">\n",
              "  <thead>\n",
              "    <tr style=\"text-align: right;\">\n",
              "      <th></th>\n",
              "      <th>brand</th>\n",
              "      <th>key</th>\n",
              "      <th>name</th>\n",
              "      <th>description</th>\n",
              "      <th>rating</th>\n",
              "      <th>rating_count</th>\n",
              "      <th>ingredients</th>\n",
              "    </tr>\n",
              "  </thead>\n",
              "  <tbody>\n",
              "    <tr>\n",
              "      <th>139</th>\n",
              "      <td>talenti</td>\n",
              "      <td>12_talenti</td>\n",
              "      <td>COCONUT CHOCOLATE COOKIE</td>\n",
              "      <td>NaN</td>\n",
              "      <td>4.3</td>\n",
              "      <td>29</td>\n",
              "      <td>WATER, SUGAR, DESICCATED COCONUT, COCONUT OIL,...</td>\n",
              "    </tr>\n",
              "    <tr>\n",
              "      <th>158</th>\n",
              "      <td>talenti</td>\n",
              "      <td>31_talenti</td>\n",
              "      <td>PACIFIC COAST PISTACHIO GELATO</td>\n",
              "      <td>NaN</td>\n",
              "      <td>4.5</td>\n",
              "      <td>201</td>\n",
              "      <td>MILK, SUGAR, CREAM, PISTACHIOS, DEXTROSE, CARO...</td>\n",
              "    </tr>\n",
              "    <tr>\n",
              "      <th>165</th>\n",
              "      <td>talenti</td>\n",
              "      <td>38_talenti</td>\n",
              "      <td>SALTED CARAMEL TRUFFLE</td>\n",
              "      <td>NaN</td>\n",
              "      <td>4.7</td>\n",
              "      <td>160</td>\n",
              "      <td>MILK, SUGAR, SKIM MILK, CREAM, WATER, COCONUT ...</td>\n",
              "    </tr>\n",
              "    <tr>\n",
              "      <th>166</th>\n",
              "      <td>talenti</td>\n",
              "      <td>39_talenti</td>\n",
              "      <td>SEA SALT CARAMEL GELATO</td>\n",
              "      <td>NaN</td>\n",
              "      <td>4.1</td>\n",
              "      <td>146</td>\n",
              "      <td>MILK, SKIM MILK, SUGAR, CREAM, EGG YOLK AND WH...</td>\n",
              "    </tr>\n",
              "  </tbody>\n",
              "</table>\n",
              "</div>"
            ],
            "text/plain": [
              "       brand  ...                                        ingredients\n",
              "139  talenti  ...  WATER, SUGAR, DESICCATED COCONUT, COCONUT OIL,...\n",
              "158  talenti  ...  MILK, SUGAR, CREAM, PISTACHIOS, DEXTROSE, CARO...\n",
              "165  talenti  ...  MILK, SUGAR, SKIM MILK, CREAM, WATER, COCONUT ...\n",
              "166  talenti  ...  MILK, SKIM MILK, SUGAR, CREAM, EGG YOLK AND WH...\n",
              "\n",
              "[4 rows x 7 columns]"
            ]
          },
          "metadata": {
            "tags": []
          },
          "execution_count": 13
        }
      ]
    },
    {
      "cell_type": "markdown",
      "metadata": {
        "id": "U0PA1gDsqiqJ"
      },
      "source": [
        "Take-away: As Description feature having nulls not even 2% of the dataset  so \n",
        "dropping those records won't impact."
      ]
    },
    {
      "cell_type": "code",
      "metadata": {
        "id": "oOUdAFEGqmJ2"
      },
      "source": [
        "# Drop records where null values in any column\n",
        "products.dropna(inplace=True)"
      ],
      "execution_count": 14,
      "outputs": []
    },
    {
      "cell_type": "code",
      "metadata": {
        "colab": {
          "base_uri": "https://localhost:8080/"
        },
        "id": "03oCNKcEquT4",
        "outputId": "b828e850-d777-445d-8baa-04f919b54cc7"
      },
      "source": [
        "#Check count of each column\n",
        "products.count()"
      ],
      "execution_count": 15,
      "outputs": [
        {
          "output_type": "execute_result",
          "data": {
            "text/plain": [
              "brand           237\n",
              "key             237\n",
              "name            237\n",
              "description     237\n",
              "rating          237\n",
              "rating_count    237\n",
              "ingredients     237\n",
              "dtype: int64"
            ]
          },
          "metadata": {
            "tags": []
          },
          "execution_count": 15
        }
      ]
    },
    {
      "cell_type": "markdown",
      "metadata": {
        "id": "tEVW07LFrAW6"
      },
      "source": [
        "4.Data preprocessing"
      ]
    },
    {
      "cell_type": "code",
      "metadata": {
        "id": "wcF4QKg8R-qq"
      },
      "source": [
        "# Slicing the dependent & independent features\n",
        "x = products['description']\n",
        "y = products['key']"
      ],
      "execution_count": 17,
      "outputs": []
    },
    {
      "cell_type": "code",
      "metadata": {
        "colab": {
          "base_uri": "https://localhost:8080/"
        },
        "id": "8FilTu1DYp0D",
        "outputId": "55fa3172-1964-415d-9c13-09dafe0dcf94"
      },
      "source": [
        "# Check for max length of words in x, y\n",
        "print(\"Max length of Ingredients\", x.apply(lambda x:len(str(x).split())).max())\n",
        "print(\"Max length of Key\", y.apply(lambda x:len(str(x).split())).max())"
      ],
      "execution_count": 18,
      "outputs": [
        {
          "output_type": "stream",
          "text": [
            "Max length of Ingredients 290\n",
            "Max length of Key 1\n"
          ],
          "name": "stdout"
        }
      ]
    },
    {
      "cell_type": "code",
      "metadata": {
        "id": "K14MPA9tJLmM"
      },
      "source": [
        "# Lable encoding for ice cream keys\n",
        "mlb = MultiLabelBinarizer()\n",
        "\n",
        "res = pd.DataFrame(mlb.fit_transform(x),\n",
        "                   columns=mlb.classes_,\n",
        "                   index=x.index)"
      ],
      "execution_count": 19,
      "outputs": []
    },
    {
      "cell_type": "markdown",
      "metadata": {
        "id": "2RL09anxX7Z2"
      },
      "source": [
        "Preparing the data for training using train_test_split.\n",
        "https://www.bitdegree.org/learn/train-test-split"
      ]
    },
    {
      "cell_type": "code",
      "metadata": {
        "id": "XhVHMNGFC_M5",
        "colab": {
          "base_uri": "https://localhost:8080/"
        },
        "outputId": "fea09227-7236-46ec-e9b3-d496fd5d0904"
      },
      "source": [
        "\n",
        "## split the data \n",
        "x_train, x_test, y_train, y_test = train_test_split(res,y, test_size=0.2, random_state=42)\n",
        "#train, test = train_test_split(products, test_size=0.2, random_state=42)\n",
        "\n",
        "print(\"Train data shape:\", len(x_train))\n",
        "print(\"Test shape:\", len(x_test))"
      ],
      "execution_count": 20,
      "outputs": [
        {
          "output_type": "stream",
          "text": [
            "Train data shape: 189\n",
            "Test shape: 48\n"
          ],
          "name": "stdout"
        }
      ]
    },
    {
      "cell_type": "code",
      "metadata": {
        "colab": {
          "base_uri": "https://localhost:8080/"
        },
        "id": "Adk2t-lShvb_",
        "outputId": "0bdcf9ef-14e8-45fb-ca39-51a39a8fc556"
      },
      "source": [
        "print(len(x_train))\n",
        "print(len(x_test))"
      ],
      "execution_count": 21,
      "outputs": [
        {
          "output_type": "stream",
          "text": [
            "189\n",
            "48\n"
          ],
          "name": "stdout"
        }
      ]
    },
    {
      "cell_type": "code",
      "metadata": {
        "colab": {
          "base_uri": "https://localhost:8080/"
        },
        "id": "HqfbEe6sj40G",
        "outputId": "f44a56e1-3adb-457e-9cf8-661c46c35466"
      },
      "source": [
        "y_test.shape"
      ],
      "execution_count": 22,
      "outputs": [
        {
          "output_type": "execute_result",
          "data": {
            "text/plain": [
              "(48,)"
            ]
          },
          "metadata": {
            "tags": []
          },
          "execution_count": 22
        }
      ]
    },
    {
      "cell_type": "code",
      "metadata": {
        "id": "wzIsBGPwnWTj"
      },
      "source": [
        "from sklearn.preprocessing import LabelEncoder\n",
        "le = LabelEncoder()\n",
        "y_train = le.fit_transform(y_train)\n",
        "y_test = le.fit_transform(y_test)"
      ],
      "execution_count": 23,
      "outputs": []
    },
    {
      "cell_type": "code",
      "metadata": {
        "id": "thodKWgboG5C"
      },
      "source": [
        "norm = np.linalg.norm(y_train)\n",
        "y_train = y_train/norm"
      ],
      "execution_count": 24,
      "outputs": []
    },
    {
      "cell_type": "code",
      "metadata": {
        "id": "hhcbeLMRoa99"
      },
      "source": [
        "norm = np.linalg.norm(y_test)\n",
        "y_test = y_test/norm"
      ],
      "execution_count": 25,
      "outputs": []
    },
    {
      "cell_type": "code",
      "metadata": {
        "id": "QJnVD3-7Djgs"
      },
      "source": [
        "# building RNN model\n",
        "max_features = 3000\n",
        "rnn_hidden_dim = 100\n",
        "word_embedding_dim = 30000\n",
        "model_rnn = Sequential()\n",
        "model_rnn.add(Embedding(max_features, word_embedding_dim))\n",
        "model_rnn.add(Dropout(0.4))\n",
        "model_rnn.add(LSTM(32))\n",
        "model_rnn.add(Dropout(0.4))\n",
        "model_rnn.add(Dense(237, activation='sigmoid'))"
      ],
      "execution_count": 40,
      "outputs": []
    },
    {
      "cell_type": "code",
      "metadata": {
        "colab": {
          "base_uri": "https://localhost:8080/"
        },
        "id": "uZSy2Pe5pOQG",
        "outputId": "45941e56-c7c2-4495-f1d0-e5750816c89c"
      },
      "source": [
        "model_rnn.summary()"
      ],
      "execution_count": 41,
      "outputs": [
        {
          "output_type": "stream",
          "text": [
            "Model: \"sequential_4\"\n",
            "_________________________________________________________________\n",
            "Layer (type)                 Output Shape              Param #   \n",
            "=================================================================\n",
            "embedding_4 (Embedding)      (None, None, 30000)       90000000  \n",
            "_________________________________________________________________\n",
            "dropout_4 (Dropout)          (None, None, 30000)       0         \n",
            "_________________________________________________________________\n",
            "lstm_2 (LSTM)                (None, 32)                3844224   \n",
            "_________________________________________________________________\n",
            "dropout_5 (Dropout)          (None, 32)                0         \n",
            "_________________________________________________________________\n",
            "dense_4 (Dense)              (None, 237)               7821      \n",
            "=================================================================\n",
            "Total params: 93,852,045\n",
            "Trainable params: 93,852,045\n",
            "Non-trainable params: 0\n",
            "_________________________________________________________________\n"
          ],
          "name": "stdout"
        }
      ]
    },
    {
      "cell_type": "code",
      "metadata": {
        "id": "Xs7XQrKWpOCS"
      },
      "source": [
        "rmsprop = keras.optimizers.RMSprop(lr = .1)\n",
        "\n",
        "model_rnn.compile(loss='SparseCategoricalCrossentropy',\n",
        "              optimizer=rmsprop,\n",
        "              metrics=['accuracy'])"
      ],
      "execution_count": 42,
      "outputs": []
    },
    {
      "cell_type": "code",
      "metadata": {
        "id": "Sm3azI89pNwB",
        "colab": {
          "base_uri": "https://localhost:8080/"
        },
        "outputId": "0a28d137-cb15-4983-ae9f-41b317066150"
      },
      "source": [
        "batch_size = 128\n",
        "history = model_rnn.fit(x_train, y_train,\n",
        "          batch_size=batch_size,\n",
        "          epochs=10,\n",
        "          validation_data=(x_test, y_test))"
      ],
      "execution_count": 43,
      "outputs": [
        {
          "output_type": "stream",
          "text": [
            "Epoch 1/10\n",
            "2/2 [==============================] - 25s 8s/step - loss: 4.3606 - accuracy: 0.0000e+00 - val_loss: 1.1206e-05 - val_accuracy: 0.0208\n",
            "Epoch 2/10\n",
            "2/2 [==============================] - 20s 7s/step - loss: 0.0020 - accuracy: 0.0061 - val_loss: 8.2254e-06 - val_accuracy: 0.0208\n",
            "Epoch 3/10\n",
            "2/2 [==============================] - 20s 7s/step - loss: 0.0010 - accuracy: 0.0061 - val_loss: 6.7949e-06 - val_accuracy: 0.0208\n",
            "Epoch 4/10\n",
            "2/2 [==============================] - 20s 7s/step - loss: 0.0011 - accuracy: 0.0061 - val_loss: 5.4836e-06 - val_accuracy: 0.0208\n",
            "Epoch 5/10\n",
            "2/2 [==============================] - 20s 7s/step - loss: 0.0010 - accuracy: 0.0061 - val_loss: 3.8147e-06 - val_accuracy: 0.0208\n",
            "Epoch 6/10\n",
            "2/2 [==============================] - 20s 7s/step - loss: 0.0015 - accuracy: 0.0035 - val_loss: 3.0994e-06 - val_accuracy: 0.0208\n",
            "Epoch 7/10\n",
            "2/2 [==============================] - 20s 7s/step - loss: 4.0444e-04 - accuracy: 0.0061 - val_loss: 2.6226e-06 - val_accuracy: 0.0208\n",
            "Epoch 8/10\n",
            "2/2 [==============================] - 20s 7s/step - loss: 0.0012 - accuracy: 0.0061 - val_loss: 1.9073e-06 - val_accuracy: 0.0208\n",
            "Epoch 9/10\n",
            "2/2 [==============================] - 20s 7s/step - loss: 6.9970e-04 - accuracy: 0.0061 - val_loss: 1.5497e-06 - val_accuracy: 0.0208\n",
            "Epoch 10/10\n",
            "2/2 [==============================] - 20s 7s/step - loss: 8.2473e-04 - accuracy: 0.0061 - val_loss: 1.3113e-06 - val_accuracy: 0.0208\n"
          ],
          "name": "stdout"
        }
      ]
    },
    {
      "cell_type": "code",
      "metadata": {
        "colab": {
          "base_uri": "https://localhost:8080/"
        },
        "id": "VQoSiCpcbb4C",
        "outputId": "76ecab88-faca-4030-81d8-ff289f7d5059"
      },
      "source": [
        "print(len(y_train))\n",
        "print(len(y_test))"
      ],
      "execution_count": 44,
      "outputs": [
        {
          "output_type": "stream",
          "text": [
            "189\n",
            "48\n"
          ],
          "name": "stdout"
        }
      ]
    },
    {
      "cell_type": "code",
      "metadata": {
        "id": "qwzcdkWJc_BI",
        "colab": {
          "base_uri": "https://localhost:8080/"
        },
        "outputId": "bd7bf564-4bae-4741-80aa-c046971344da"
      },
      "source": [
        "# variable for unique product key for ice cream brand and flavor\n",
        "n_product = len(products.key.unique())\n",
        "print(n_product)"
      ],
      "execution_count": 45,
      "outputs": [
        {
          "output_type": "stream",
          "text": [
            "237\n"
          ],
          "name": "stdout"
        }
      ]
    },
    {
      "cell_type": "code",
      "metadata": {
        "id": "tyn7dus1Jsqo",
        "colab": {
          "base_uri": "https://localhost:8080/"
        },
        "outputId": "91acd367-66e4-41a2-fb82-213f16db12f5"
      },
      "source": [
        "## We will use Keras evaluate function to evaluate performance on the test set\n",
        "\n",
        "score = model_rnn.evaluate(x_test, y_test, verbose=0)\n",
        "print('Test loss:', score[0])\n",
        "print('Test accuracy:', score[1])"
      ],
      "execution_count": 47,
      "outputs": [
        {
          "output_type": "stream",
          "text": [
            "Test loss: 1.311301275563892e-06\n",
            "Test accuracy: 0.02083333395421505\n"
          ],
          "name": "stdout"
        }
      ]
    },
    {
      "cell_type": "code",
      "metadata": {
        "id": "wufKaxFLs0kO",
        "colab": {
          "base_uri": "https://localhost:8080/",
          "height": 390
        },
        "outputId": "1cb90fd9-3202-4714-8aec-e83ba790ece2"
      },
      "source": [
        "# Write a function to plot the train & test losses\n",
        "def plot_loss_accuracy(history):\n",
        "    fig = plt.figure(figsize=(12, 6))\n",
        "    ax = fig.add_subplot(1, 2, 1)\n",
        "    ax.plot(history.history[\"loss\"],'r-x', label=\"Train Loss\")\n",
        "    ax.plot(history.history[\"val_loss\"],'b-x', label=\"Validation Loss\")\n",
        "    ax.legend()\n",
        "    ax.set_title('cross_entropy loss')\n",
        "    ax.grid(True)\n",
        "\n",
        "\n",
        "    ax = fig.add_subplot(1, 2, 2)\n",
        "    ax.plot(history.history[\"accuracy\"],'r-x', label=\"Train Accuracy\")\n",
        "    ax.plot(history.history[\"val_accuracy\"],'b-x', label=\"Validation Accuracy\")\n",
        "    ax.legend()\n",
        "    ax.set_title('accuracy')\n",
        "    ax.grid(True)  \n",
        "\n",
        "# Calling the function\n",
        "plot_loss_accuracy(history)"
      ],
      "execution_count": 48,
      "outputs": [
        {
          "output_type": "display_data",
          "data": {
            "image/png": "[encoded data removed]",
            "text/plain": [
              "<Figure size 864x432 with 2 Axes>"
            ]
          },
          "metadata": {
            "tags": [],
            "needs_background": "light"
          }
        }
      ]
    }
  ]
}